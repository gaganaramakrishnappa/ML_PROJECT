{
 "cells": [
  {
   "cell_type": "code",
   "execution_count": null,
   "metadata": {},
   "outputs": [],
   "source": [
    "import pandas as pd\n",
    "%matplotlib inline\n",
    "import matplotlib.pyplot as plt\n",
    "#reading the dataset\n",
    "df=pd.read_csv(\"phl_hec_all_confirmed.csv\")\n",
    "print(\"number of rows= \",df.shape[0])\n",
    "print(\"number of columns= \",len(df.columns))\n"
   ]
  },
  {
   "cell_type": "code",
   "execution_count": 4,
   "metadata": {},
   "outputs": [
    {
     "data": {
      "text/plain": [
       "<matplotlib.axes._subplots.AxesSubplot at 0x1f3f8889550>"
      ]
     },
     "execution_count": 4,
     "metadata": {},
     "output_type": "execute_result"
    },
    {
     "data": {
      "image/png": "[encoded data removed]",
      "text/plain": [
       "<Figure size 432x288 with 1 Axes>"
      ]
     },
     "metadata": {
      "needs_background": "light"
     },
     "output_type": "display_data"
    }
   ],
   "source": [
    "target_count = df['P. Habitable Class'].value_counts()\n",
    "target_count.plot(kind='bar', title='Count (target)')"
   ]
  },
  {
   "cell_type": "code",
   "execution_count": 5,
   "metadata": {},
   "outputs": [
    {
     "name": "stdout",
     "output_type": "stream",
     "text": [
      "number of rows after removing planets with gaseous composition=  1801\n"
     ]
    }
   ],
   "source": [
    "#from the above figure we can understand that the dataset is highly biased\n",
    "#since our dataset is highly biased(majority of them are non-habitable) we are applying sampling(under-sampling)\n",
    "#removing the rows containing 'gas' as composition class since all the planets with gas compostion is non-habitable\n",
    "indexNames = df[df['P. Composition Class']=='gas'].index\n",
    " # Delete these row indexes from dataFrame\n",
    "df.drop(indexNames , inplace=True)\n",
    "print(\"number of rows after removing planets with gaseous composition= \",df.shape[0])\n"
   ]
  },
  {
   "cell_type": "code",
   "execution_count": 6,
   "metadata": {},
   "outputs": [
    {
     "name": "stdout",
     "output_type": "stream",
     "text": [
      "non-habitable        1747\n",
      "mesoplanet             31\n",
      "psychroplanet          17\n",
      "thermoplanet            3\n",
      "hypopsychroplanet       3\n",
      "Name: P. Habitable Class, dtype: int64\n"
     ]
    }
   ],
   "source": [
    "#finding number of planets in each category\n",
    "print(df['P. Habitable Class'].value_counts())"
   ]
  },
  {
   "cell_type": "code",
   "execution_count": 7,
   "metadata": {},
   "outputs": [
    {
     "name": "stdout",
     "output_type": "stream",
     "text": [
      "non-habitable    1747\n",
      "mesoplanet         31\n",
      "psychroplanet      17\n",
      "Name: P. Habitable Class, dtype: int64\n",
      "final number of rows=  1795\n"
     ]
    }
   ],
   "source": [
    "#since number of samples in hypopsychroplanet and thermoplanet is very less compared to total number of samples in the dataset\n",
    "# it is not suitable for classification task and therefor these two classes are not considered for prediction\n",
    "\n",
    "#removing rows containing hypopsychroplanet and thermoplanet classes\n",
    "# Get names of indexes for which Habitable class is either hypopsychroplanet or thermoplanet\n",
    "indexNames = df[(df['P. Habitable Class'] == \"hypopsychroplanet\") | (df['P. Habitable Class'] == \"thermoplanet\") ].index\n",
    " \n",
    "# Delete these row indexes from dataFrame\n",
    "df.drop(indexNames , inplace=True)\n",
    "print(df['P. Habitable Class'].value_counts())\n",
    "print(\"final number of rows= \",df.shape[0])\n"
   ]
  },
  {
   "cell_type": "code",
   "execution_count": 8,
   "metadata": {},
   "outputs": [
    {
     "name": "stdout",
     "output_type": "stream",
     "text": [
      "removed rows=  Index(['P. Max Mass (EU)', 'P. Inclination (deg)', 'S. Name HD', 'S. Name HIP',\n",
      "       'Unnamed: 68'],\n",
      "      dtype='object')\n",
      "64\n"
     ]
    }
   ],
   "source": [
    "#DIMENTIONALITY REDUCTION\n",
    "# 1) based on missing value ratio\n",
    "#if the missing value ratio is greater than 90% then drop the column\n",
    "filtered_col = df.columns[df.isnull().mean()>0.9]\n",
    "print(\"removed rows= \",filtered_col)\n",
    "df=df.drop(list(filtered_col),axis=1)\n",
    "print(len(df.columns))"
   ]
  },
  {
   "cell_type": "code",
   "execution_count": 11,
   "metadata": {},
   "outputs": [
    {
     "name": "stdout",
     "output_type": "stream",
     "text": [
      "removed columns=  ['P. Zone Class', 'P. Composition Class', 'P. Min Mass (EU)', 'P. Eccentricity', 'P. Omega (deg)', 'S. No. Planets HZ', 'P. SPH', 'P. Int ESI', 'P. Surf ESI', 'S. HabCat', 'P. Habitable', 'P. Hab Moon', 'P. Confirmed']\n",
      "51\n"
     ]
    }
   ],
   "source": [
    "# 2) based on the variance of each coloumn\n",
    "#An attribute with low variance not really separating data points in anyway.so we can remove that coloumn\n",
    "l=[]\n",
    "threshold=0.8\n",
    "for i in df.columns:\n",
    "    max_rfrequency = df[i].value_counts(normalize=True, dropna=False).values[0]#finding maximum value of the relative frequency of values in that column\n",
    "    if(max_rfrequency>threshold):\n",
    "        l.append(i)\n",
    "l.remove('P. Habitable Class')\n",
    "print(\"removed columns= \",l)\n",
    "df=df.drop(l,axis=1)\n",
    "print(len(df.columns))\n"
   ]
  },
  {
   "cell_type": "code",
   "execution_count": 2,
   "metadata": {},
   "outputs": [
    {
     "ename": "NameError",
     "evalue": "name 'df' is not defined",
     "output_type": "error",
     "traceback": [
      "\u001b[1;31m---------------------------------------------------------------------------\u001b[0m",
      "\u001b[1;31mNameError\u001b[0m                                 Traceback (most recent call last)",
      "\u001b[1;32m<ipython-input-2-e848de4a6f30>\u001b[0m in \u001b[0;36m<module>\u001b[1;34m()\u001b[0m\n\u001b[0;32m      1\u001b[0m \u001b[1;31m#removing name of the host star, year of discovery and other unnecessary columns which are unnecessary  for classification\u001b[0m\u001b[1;33m\u001b[0m\u001b[1;33m\u001b[0m\u001b[0m\n\u001b[0;32m      2\u001b[0m \u001b[0ml\u001b[0m\u001b[1;33m=\u001b[0m\u001b[1;33m[\u001b[0m\u001b[1;34m'P. Name'\u001b[0m\u001b[1;33m,\u001b[0m\u001b[1;34m'P. Name Kepler'\u001b[0m\u001b[1;33m,\u001b[0m\u001b[1;34m'P. Name KOI'\u001b[0m\u001b[1;33m,\u001b[0m\u001b[1;34m'S. Name'\u001b[0m\u001b[1;33m,\u001b[0m\u001b[1;34m'P. Disc. Year'\u001b[0m\u001b[1;33m,\u001b[0m\u001b[1;34m'P. Disc. Method'\u001b[0m\u001b[1;33m,\u001b[0m\u001b[1;34m'S. Constellation'\u001b[0m\u001b[1;33m,\u001b[0m\u001b[1;34m'S. Type'\u001b[0m\u001b[1;33m]\u001b[0m\u001b[1;33m\u001b[0m\u001b[0m\n\u001b[1;32m----> 3\u001b[1;33m \u001b[0mdf\u001b[0m\u001b[1;33m=\u001b[0m\u001b[0mdf\u001b[0m\u001b[1;33m.\u001b[0m\u001b[0mdrop\u001b[0m\u001b[1;33m(\u001b[0m\u001b[0ml\u001b[0m\u001b[1;33m,\u001b[0m\u001b[0maxis\u001b[0m\u001b[1;33m=\u001b[0m\u001b[1;36m1\u001b[0m\u001b[1;33m)\u001b[0m\u001b[1;33m\u001b[0m\u001b[0m\n\u001b[0m\u001b[0;32m      4\u001b[0m \u001b[0mprint\u001b[0m\u001b[1;33m(\u001b[0m\u001b[1;34m\"final length of input features= \"\u001b[0m\u001b[1;33m,\u001b[0m\u001b[0mlen\u001b[0m\u001b[1;33m(\u001b[0m\u001b[0mdf\u001b[0m\u001b[1;33m.\u001b[0m\u001b[0mcolumns\u001b[0m\u001b[1;33m)\u001b[0m\u001b[1;33m)\u001b[0m\u001b[1;33m\u001b[0m\u001b[0m\n",
      "\u001b[1;31mNameError\u001b[0m: name 'df' is not defined"
     ]
    }
   ],
   "source": [
    "#removing name of the host star, year of discovery and other unnecessary columns which are unnecessary  for classification\n",
    "l=['P. Name','P. Name Kepler','P. Name KOI','S. Name','P. Disc. Year','P. Disc. Method','S. Constellation','S. Type']\n",
    "df=df.drop(l,axis=1)\n",
    "print(\"final length of input features= \",len(df.columns))"
   ]
  },
  {
   "cell_type": "code",
   "execution_count": 9,
   "metadata": {},
   "outputs": [
    {
     "name": "stdout",
     "output_type": "stream",
     "text": [
      "P. Mass Class                 object\n",
      "P. Atmosphere Class           object\n",
      "P. Habitable Class            object\n",
      "P. Mass (EU)                 float64\n",
      "P. Radius (EU)               float64\n",
      "P. Density (EU)              float64\n",
      "P. Gravity (EU)              float64\n",
      "P. Esc Vel (EU)              float64\n",
      "P. SFlux Min (EU)             object\n",
      "P. SFlux Mean (EU)            object\n",
      "P. SFlux Max (EU)             object\n",
      "P. Teq Min (K)               float64\n",
      "P. Teq Mean (K)              float64\n",
      "P. Teq Max (K)               float64\n",
      "P. Ts Min (K)                float64\n",
      "P. Ts Mean (K)               float64\n",
      "P. Ts Max (K)                float64\n",
      "P. Surf Press (EU)           float64\n",
      "P. Mag                       float64\n",
      "P. Appar Size (deg)          float64\n",
      "P. Period (days)             float64\n",
      "P. Sem Major Axis (AU)       float64\n",
      "P. Mean Distance (AU)        float64\n",
      "S. Mass (SU)                 float64\n",
      "S. Radius (SU)               float64\n",
      "S. Teff (K)                  float64\n",
      "S. Luminosity (SU)           float64\n",
      "S. [Fe/H]                    float64\n",
      "S. Age (Gyrs)                float64\n",
      "S. Appar Mag                 float64\n",
      "S. Distance (pc)             float64\n",
      "S. RA (hrs)                  float64\n",
      "S. DEC (deg)                 float64\n",
      "S. Mag from Planet           float64\n",
      "S. Size from Planet (deg)    float64\n",
      "S. No. Planets                 int64\n",
      "S. Hab Zone Min (AU)         float64\n",
      "S. Hab Zone Max (AU)         float64\n",
      "P. HZD                       float64\n",
      "P. HZC                       float64\n",
      "P. HZA                       float64\n",
      "P. HZI                       float64\n",
      "P. ESI                       float64\n",
      "dtype: object\n"
     ]
    }
   ],
   "source": [
    "print(df.dtypes)"
   ]
  },
  {
   "cell_type": "code",
   "execution_count": 10,
   "metadata": {},
   "outputs": [],
   "source": [
    "#from above we can understand only categorical columns are P. Mass Class,P. Atmosphere Class,P. Habitable Class.\n",
    "#applying label encoding to convert categorical columns into numerical since ML model will not take string values\n",
    "df['P. Mass Class']=df['P. Mass Class'].replace(['Jovian'],0)\n",
    "df['P. Mass Class']=df['P. Mass Class'].replace(['Superterran'],1)\n",
    "df['P. Mass Class']=df['P. Mass Class'].replace(['Terran'],2)\n",
    "df['P. Mass Class']=df['P. Mass Class'].replace(['Neptunian'],3)\n",
    "df['P. Mass Class']=df['P. Mass Class'].replace(['Subterran'],4)\n",
    "df['P. Mass Class']=df['P. Mass Class'].replace(['Mercurian'],5)"
   ]
  },
  {
   "cell_type": "code",
   "execution_count": 11,
   "metadata": {},
   "outputs": [],
   "source": [
    "df['P. Atmosphere Class']=df['P. Atmosphere Class'].replace(['hydrogen-rich'],0)\n",
    "df['P. Atmosphere Class']=df['P. Atmosphere Class'].replace(['metals-rich'],1)\n",
    "df['P. Atmosphere Class']=df['P. Atmosphere Class'].replace(['no-atmosphere'],2)"
   ]
  },
  {
   "cell_type": "code",
   "execution_count": 12,
   "metadata": {},
   "outputs": [],
   "source": [
    "df['P. Habitable Class']=df['P. Habitable Class'].replace(['non-habitable'],0)\n",
    "df['P. Habitable Class']=df['P. Habitable Class'].replace(['mesoplanet'],1)\n",
    "df['P. Habitable Class']=df['P. Habitable Class'].replace(['psychroplanet'],2)"
   ]
  },
  {
   "cell_type": "code",
   "execution_count": 13,
   "metadata": {},
   "outputs": [
    {
     "name": "stderr",
     "output_type": "stream",
     "text": [
      "C:\\ProgramData\\Anaconda3\\lib\\site-packages\\ipykernel_launcher.py:2: FutureWarning: convert_objects is deprecated.  To re-infer data dtypes for object columns, use Series.infer_objects()\n",
      "For all other conversions use the data-type specific converters pd.to_datetime, pd.to_timedelta and pd.to_numeric.\n",
      "  \n",
      "C:\\ProgramData\\Anaconda3\\lib\\site-packages\\ipykernel_launcher.py:3: FutureWarning: convert_objects is deprecated.  To re-infer data dtypes for object columns, use Series.infer_objects()\n",
      "For all other conversions use the data-type specific converters pd.to_datetime, pd.to_timedelta and pd.to_numeric.\n",
      "  This is separate from the ipykernel package so we can avoid doing imports until\n",
      "C:\\ProgramData\\Anaconda3\\lib\\site-packages\\ipykernel_launcher.py:4: FutureWarning: convert_objects is deprecated.  To re-infer data dtypes for object columns, use Series.infer_objects()\n",
      "For all other conversions use the data-type specific converters pd.to_datetime, pd.to_timedelta and pd.to_numeric.\n",
      "  after removing the cwd from sys.path.\n"
     ]
    }
   ],
   "source": [
    "#changing the object data type into float since some columns are represented in exponent form\n",
    "df['P. SFlux Min (EU)'] = df['P. SFlux Min (EU)'].convert_objects(convert_numeric=True)\n",
    "df['P. SFlux Mean (EU)'] = df['P. SFlux Mean (EU)'].convert_objects(convert_numeric=True)\n",
    "df['P. SFlux Max (EU)'] = df['P. SFlux Max (EU)'].convert_objects(convert_numeric=True)"
   ]
  },
  {
   "cell_type": "code",
   "execution_count": 14,
   "metadata": {},
   "outputs": [
    {
     "name": "stdout",
     "output_type": "stream",
     "text": [
      "P. Mass Class                float64\n",
      "P. Atmosphere Class          float64\n",
      "P. Habitable Class             int64\n",
      "P. Mass (EU)                 float64\n",
      "P. Radius (EU)               float64\n",
      "P. Density (EU)              float64\n",
      "P. Gravity (EU)              float64\n",
      "P. Esc Vel (EU)              float64\n",
      "P. SFlux Min (EU)            float64\n",
      "P. SFlux Mean (EU)           float64\n",
      "P. SFlux Max (EU)            float64\n",
      "P. Teq Min (K)               float64\n",
      "P. Teq Mean (K)              float64\n",
      "P. Teq Max (K)               float64\n",
      "P. Ts Min (K)                float64\n",
      "P. Ts Mean (K)               float64\n",
      "P. Ts Max (K)                float64\n",
      "P. Surf Press (EU)           float64\n",
      "P. Mag                       float64\n",
      "P. Appar Size (deg)          float64\n",
      "P. Period (days)             float64\n",
      "P. Sem Major Axis (AU)       float64\n",
      "P. Mean Distance (AU)        float64\n",
      "S. Mass (SU)                 float64\n",
      "S. Radius (SU)               float64\n",
      "S. Teff (K)                  float64\n",
      "S. Luminosity (SU)           float64\n",
      "S. [Fe/H]                    float64\n",
      "S. Age (Gyrs)                float64\n",
      "S. Appar Mag                 float64\n",
      "S. Distance (pc)             float64\n",
      "S. RA (hrs)                  float64\n",
      "S. DEC (deg)                 float64\n",
      "S. Mag from Planet           float64\n",
      "S. Size from Planet (deg)    float64\n",
      "S. No. Planets                 int64\n",
      "S. Hab Zone Min (AU)         float64\n",
      "S. Hab Zone Max (AU)         float64\n",
      "P. HZD                       float64\n",
      "P. HZC                       float64\n",
      "P. HZA                       float64\n",
      "P. HZI                       float64\n",
      "P. ESI                       float64\n",
      "dtype: object\n"
     ]
    }
   ],
   "source": [
    "print(df.dtypes)"
   ]
  },
  {
   "cell_type": "code",
   "execution_count": 15,
   "metadata": {},
   "outputs": [
    {
     "name": "stdout",
     "output_type": "stream",
     "text": [
      "                    P. Mass Class  P. Atmosphere Class  P. Mass (EU)  \\\n",
      "P. Habitable Class                                                     \n",
      "0                        1.541068             1.138643    122.003565   \n",
      "1                        1.387097             0.677419      9.291290   \n",
      "2                        1.647059             0.823529      4.715294   \n",
      "\n",
      "                    P. Radius (EU)  P. Density (EU)  P. Gravity (EU)  \\\n",
      "P. Habitable Class                                                     \n",
      "0                         1.898190         2.245821         3.615106   \n",
      "1                         1.798387         1.220968         2.294194   \n",
      "2                         1.504118         1.110588         1.724118   \n",
      "\n",
      "                    P. Esc Vel (EU)  P. SFlux Min (EU)  P. SFlux Mean (EU)  \\\n",
      "P. Habitable Class                                                           \n",
      "0                          1.959601         901.869671          905.957162   \n",
      "1                          2.022903           1.029862            1.143236   \n",
      "2                          1.595882           0.446762            0.509575   \n",
      "\n",
      "                    P. SFlux Max (EU)  ...  S. Mag from Planet  \\\n",
      "P. Habitable Class                     ...                       \n",
      "0                          912.715960  ...          -31.549942   \n",
      "1                            1.329889  ...          -26.858065   \n",
      "2                            0.615867  ...          -25.970588   \n",
      "\n",
      "                    S. Size from Planet (deg)  S. No. Planets  \\\n",
      "P. Habitable Class                                              \n",
      "0                                    7.968060        1.954780   \n",
      "1                                    1.260352        2.258065   \n",
      "2                                    1.065635        3.588235   \n",
      "\n",
      "                    S. Hab Zone Min (AU)  S. Hab Zone Max (AU)    P. HZD  \\\n",
      "P. Habitable Class                                                         \n",
      "0                               0.668477              1.584066 -1.906822   \n",
      "1                               0.267355              0.654774 -0.749355   \n",
      "2                               0.144412              0.362765 -0.005882   \n",
      "\n",
      "                      P. HZC    P. HZA    P. HZI    P. ESI  \n",
      "P. Habitable Class                                          \n",
      "0                  -0.133546 -0.297882  0.302065  0.308782  \n",
      "1                  -0.144839  0.690968  0.464516  0.782903  \n",
      "2                  -0.165882  0.385882  0.590588  0.715294  \n",
      "\n",
      "[3 rows x 42 columns]\n",
      "122.0035647607936\n",
      "1.8981902017291084\n",
      "2.2458206330597896\n",
      "3.6151055099648417\n",
      "1.959601406799527\n",
      "901.8696707996752\n",
      "905.9571624527636\n",
      "912.715960346134\n",
      "854.8527104959603\n",
      "858.4209342560529\n",
      "864.3059400230657\n",
      "897.0022418879054\n",
      "900.5182890855457\n",
      "906.2876696165197\n",
      "1225.3253223915608\n",
      "-23.129779582366574\n",
      "3.6130144092219036\n",
      "28.73390328151984\n",
      "0.17816908881199542\n",
      "0.17694348327566414\n",
      "0.8948039215686263\n",
      "0.9454231433506032\n",
      "5400.474985623921\n",
      "1.2072227765042984\n",
      "-0.12049933244325782\n",
      "4.178172307692314\n",
      "13.687304204451758\n",
      "626.496597744361\n",
      "18.33339765311965\n",
      "37.57137487120773\n",
      "-31.549942329873137\n",
      "7.968059965237547\n",
      "1.954779622209502\n",
      "0.6684772596430633\n",
      "1.5840662061024795\n",
      "-1.9068223760092256\n",
      "-0.13354630715123028\n",
      "-0.29788200589970515\n",
      "0.3020648967551611\n",
      "0.3087817551963048\n"
     ]
    }
   ],
   "source": [
    "#replacing missing values\n",
    "#for non-categorical columns replacing missing value with class wise mean\n",
    "df1=df.groupby(['P. Habitable Class']).mean() \n",
    "print(df1)\n",
    "df2=df1\n",
    "del df1['P. Mass Class'],df1['P. Atmosphere Class']\n",
    "\n",
    "mask_0=df['P. Habitable Class']==0\n",
    "mask_1=df['P. Habitable Class']==1\n",
    "mask_2=df['P. Habitable Class']==2\n",
    "for column in df1.columns:\n",
    "    df[column]=df[column].mask(mask_0,df[column].fillna(df1[column][0]))\n",
    "    print(df1[column][0])\n",
    "    df[column]=df[column].mask(mask_1,df[column].fillna(df1[column][1]))\n",
    "    df[column]=df[column].mask(mask_2,df[column].fillna(df1[column][2]))"
   ]
  },
  {
   "cell_type": "code",
   "execution_count": 16,
   "metadata": {},
   "outputs": [],
   "source": [
    "#replacing categorical columns with mode\n",
    "l=['P. Mass Class','P. Atmosphere Class']\n",
    "for column in l:\n",
    "        df[column].fillna(df[column].mode()[0], inplace=True)\n",
    "df['target']=df['P. Habitable Class']\n",
    "del df['P. Habitable Class']\n"
   ]
  },
  {
   "cell_type": "code",
   "execution_count": 17,
   "metadata": {},
   "outputs": [],
   "source": [
    "#writing the final dataframe into a csv file\n",
    "df.to_csv(\"output.csv\")"
   ]
  },
  {
   "cell_type": "code",
   "execution_count": 18,
   "metadata": {},
   "outputs": [],
   "source": [
    "#for c in df.columns:\n",
    "#    print((df[c][0]))"
   ]
  },
  {
   "cell_type": "code",
   "execution_count": null,
   "metadata": {},
   "outputs": [],
   "source": []
  }
 ],
 "metadata": {
  "kernelspec": {
   "display_name": "Python 3",
   "language": "python",
   "name": "python3"
  },
  "language_info": {
   "codemirror_mode": {
    "name": "ipython",
    "version": 3
   },
   "file_extension": ".py",
   "mimetype": "text/x-python",
   "name": "python",
   "nbconvert_exporter": "python",
   "pygments_lexer": "ipython3",
   "version": "3.6.5"
  }
 },
 "nbformat": 4,
 "nbformat_minor": 2
}
