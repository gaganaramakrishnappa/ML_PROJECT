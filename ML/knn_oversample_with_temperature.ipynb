{
 "cells": [
  {
   "cell_type": "code",
   "execution_count": 1,
   "metadata": {},
   "outputs": [
    {
     "name": "stdout",
     "output_type": "stream",
     "text": [
      "1795\n"
     ]
    }
   ],
   "source": [
    "import pandas as pd\n",
    "#reading the cleaned dataset\n",
    "df=pd.read_csv(\"output.csv\")\n",
    "print(df.shape[0])"
   ]
  },
  {
   "cell_type": "code",
   "execution_count": 13,
   "metadata": {},
   "outputs": [
    {
     "name": "stdout",
     "output_type": "stream",
     "text": [
      "      Unnamed: 0  P. Mass Class  P. Atmosphere Class  P. Mass (EU)  \\\n",
      "45           203            1.0                  1.0          7.26   \n",
      "61           232            2.0                  1.0          2.70   \n",
      "62           233            2.0                  1.0          2.70   \n",
      "66           241            1.0                  0.0          8.70   \n",
      "74           263            1.0                  1.0          7.63   \n",
      "106          548            1.0                  1.0          7.09   \n",
      "222         1129            2.0                  1.0          4.80   \n",
      "284         1279            2.0                  1.0          2.81   \n",
      "455         1543            1.0                  0.0         14.78   \n",
      "664         1862            1.0                  1.0          6.14   \n",
      "880         2154            2.0                  1.0          2.34   \n",
      "1382        3006            2.0                  1.0          2.73   \n",
      "1741        3450            2.0                  1.0          1.26   \n",
      "1752        3498            2.0                  0.0          6.64   \n",
      "1765        3617            2.0                  1.0          1.27   \n",
      "1783        3665            2.0                  1.0          0.64   \n",
      "1784        3666            2.0                  1.0          0.67   \n",
      "\n",
      "      P. Radius (EU)  P. Density (EU)  P. Gravity (EU)  P. Esc Vel (EU)  \\\n",
      "45              1.83             1.19             2.17             1.99   \n",
      "61              1.40             0.99             1.39             1.39   \n",
      "62              1.40             0.99             1.39             1.39   \n",
      "66              1.92             1.24             2.37             2.13   \n",
      "74              1.85             1.20             2.22             2.03   \n",
      "106             1.82             1.18             2.15             1.98   \n",
      "222             1.64             1.09             1.79             1.71   \n",
      "284             1.41             1.00             1.41             1.41   \n",
      "455             2.18             1.42             3.10             2.60   \n",
      "664             1.75             1.15             2.01             1.87   \n",
      "880             1.34             0.97             1.30             1.32   \n",
      "1382            1.40             0.99             1.39             1.40   \n",
      "1741            1.12             0.90             1.01             1.06   \n",
      "1752            1.43             2.26             3.23             2.15   \n",
      "1765            1.12             0.90             1.01             1.07   \n",
      "1783            0.92             0.82             0.76             0.83   \n",
      "1784            1.04             0.59             0.61             0.80   \n",
      "\n",
      "      P. SFlux Min (EU)  P. SFlux Mean (EU)  ...  S. Size from Planet (deg)  \\\n",
      "45             0.551557            0.663002  ...                     0.9881   \n",
      "61             0.290249            0.302030  ...                     0.8714   \n",
      "62             0.530653            0.563207  ...                     1.1900   \n",
      "66             0.302060            0.367301  ...                     1.1831   \n",
      "74             0.447687            0.565605  ...                     1.1179   \n",
      "106            0.389528            0.677169  ...                     0.6042   \n",
      "222            0.290059            0.434285  ...                     0.9409   \n",
      "284            0.388223            0.388223  ...                     0.4676   \n",
      "455            0.426752            0.426752  ...                     0.4880   \n",
      "664            0.268783            0.339579  ...                     0.8155   \n",
      "880            0.646680            0.699982  ...                     0.7685   \n",
      "1382           0.490155            0.490155  ...                     0.8699   \n",
      "1741           0.650472            0.650472  ...                     1.1835   \n",
      "1752           0.234181            0.407107  ...                     1.1837   \n",
      "1765           0.656212            0.656212  ...                     1.5493   \n",
      "1783           0.654408            0.654408  ...                     2.2135   \n",
      "1784           0.377289            0.377289  ...                     1.6807   \n",
      "\n",
      "      S. No. Planets  S. Hab Zone Min (AU)  S. Hab Zone Max (AU)  P. HZD  \\\n",
      "45                 3                 0.083                 0.212   -0.34   \n",
      "61                 6                 0.096                 0.251    0.51   \n",
      "62                 6                 0.096                 0.251   -0.22   \n",
      "66                 2                 0.087                 0.232    0.23   \n",
      "74                 4                 0.119                 0.309   -0.21   \n",
      "106                6                 0.379                 0.917   -0.15   \n",
      "222                2                 0.089                 0.232    0.12   \n",
      "284                5                 0.353                 0.857    0.45   \n",
      "455                3                 0.348                 0.846    0.32   \n",
      "664                5                 0.134                 0.347    0.40   \n",
      "880                1                 0.274                 0.681   -0.34   \n",
      "1382               1                 0.178                 0.456   -0.03   \n",
      "1741               1                 0.104                 0.270   -0.35   \n",
      "1752               1                 0.045                 0.118    0.18   \n",
      "1765               1                 0.032                 0.086   -0.39   \n",
      "1783               7                 0.019                 0.051   -0.42   \n",
      "1784               7                 0.019                 0.051    0.14   \n",
      "\n",
      "      P. HZC  P. HZA  P. HZI  P. ESI  target  \n",
      "45     -0.14    0.81    0.53    0.73       2  \n",
      "61     -0.16    0.23    0.63    0.60       2  \n",
      "62     -0.16    0.08    0.78    0.77       2  \n",
      "66     -0.14    1.19    0.45    0.59       2  \n",
      "74     -0.14    0.91    0.52    0.70       2  \n",
      "106    -0.14    0.77    0.56    0.74       2  \n",
      "222    -0.15    0.57    0.63    0.67       2  \n",
      "284    -0.16    0.19    0.66    0.67       2  \n",
      "455    -0.13    1.77    0.36    0.61       2  \n",
      "664    -0.14    0.86    0.51    0.60       2  \n",
      "880    -0.16   -0.06    0.73    0.84       2  \n",
      "1382   -0.16    0.12    0.83    0.73       2  \n",
      "1741   -0.17   -0.37    0.65    0.85       2  \n",
      "1752   -0.82    1.17    0.41    0.68       2  \n",
      "1765   -0.17   -0.37    0.64    0.85       2  \n",
      "1783   -0.15   -0.67    0.56    0.85       2  \n",
      "1784    0.27   -0.64    0.59    0.68       2  \n",
      "\n",
      "[17 rows x 44 columns]\n"
     ]
    }
   ],
   "source": [
    "#applying upsampling\n",
    "from sklearn.utils import resample\n",
    "df_majority=df[df['target']==0]\n",
    "df_minority_1=df[df['target']==1]\n",
    "df_minority_2=df[df['target']==2]\n",
    "# Upsample minority class\n",
    "df_minority_upsampled_1 = resample(df_minority_1, \n",
    "                                 replace=True,  \n",
    "                                 n_samples=1000,\n",
    "                                 random_state=123) \n",
    "df_minority_upsampled_2 = resample(df_minority_2, \n",
    "                                 replace=True,  \n",
    "                                 n_samples=1000,\n",
    "                                 random_state=123) \n",
    "df_upsampled = pd.concat([df_majority, df_minority_upsampled_1,df_minority_upsampled_2])"
   ]
  },
  {
   "cell_type": "code",
   "execution_count": 3,
   "metadata": {},
   "outputs": [
    {
     "name": "stdout",
     "output_type": "stream",
     "text": [
      "3747\n"
     ]
    }
   ],
   "source": [
    "print(df_upsampled.shape[0])\n",
    "df_upsampled.to_csv(\"upsampling.csv\")"
   ]
  },
  {
   "cell_type": "code",
   "execution_count": 4,
   "metadata": {},
   "outputs": [],
   "source": [
    "#CLASSIFICATION USING KNN(k=3)\n",
    "#loading the dataset and splitting the dataset into test and train data\n",
    "\n",
    "import csv\n",
    "import random\n",
    "def loadDataset(filename,trainset=[] , testset=[]):\n",
    "    lines = csv. reader(open(filename ,'r'))\n",
    "    dataset = list(lines)\n",
    "    dataset.remove(dataset[0]) #first element is column names so removing that perticular element from dataset\n",
    "    k=len(dataset[0])\n",
    "    for x in range(len(dataset)):\n",
    "        for y in range(k):\n",
    "                dataset[x][y] = float(dataset[x][y]) #converting all values from string into float\n",
    "    l=[]\n",
    "    for i in range(0,2222):  #splitting the datset into test and train where the splitting ratio is 0.7\n",
    "        l.append(random.randint(0,len(dataset)-1))\n",
    "    for j in range(0,len(dataset)-1):\n",
    "        if j in l:\n",
    "            trainset.append(dataset[j])\n",
    "        else:\n",
    "            testset.append(dataset[j])\n",
    "\n",
    "\n",
    "\n",
    "\n",
    "\n",
    "trainset=[]\n",
    "testset=[]\n",
    "loadDataset('upsampling.csv', trainset, testset)"
   ]
  },
  {
   "cell_type": "code",
   "execution_count": 5,
   "metadata": {},
   "outputs": [],
   "source": [
    "#calculating euclidian distance\n",
    "import math\n",
    "def find_distance(testpoint,trainpoint):\n",
    "    dist=0\n",
    "    no_attributes=len(testpoint)\n",
    "    for i in range(no_attributes-1):\n",
    "        dist=dist+pow((testpoint[i]-trainpoint[i]),2)\n",
    "    value=math.sqrt(dist)\n",
    "    return value"
   ]
  },
  {
   "cell_type": "code",
   "execution_count": 6,
   "metadata": {},
   "outputs": [],
   "source": [
    "#finding nearest k neighbors\n",
    "import operator \n",
    "def findNeighbors(trainset,testpoint,k):\n",
    "    distances=[]\n",
    "    for x in range(0,len(trainset)):\n",
    "        dist=find_distance(testpoint,trainset[x])\n",
    "        distances.append((trainset[x],dist))\n",
    "    \n",
    "    distances.sort(key=operator.itemgetter(1))\n",
    "    nearest_points=[]\n",
    "    for j in range(k):\n",
    "        nearest_points.append(distances[j][0])\n",
    "    return nearest_points"
   ]
  },
  {
   "cell_type": "code",
   "execution_count": 7,
   "metadata": {},
   "outputs": [],
   "source": [
    "#finding the majority class among k neighbors\n",
    "def predict(neighbors):\n",
    "    target_values={}\n",
    "    k=len(neighbors[0])\n",
    "    for ele in neighbors:\n",
    "        target=ele[k-1]\n",
    "        if target in target_values:\n",
    "            target_values[target]+=1\n",
    "        else:\n",
    "            target_values[target]=1\n",
    "    sortedvalues = sorted(target_values.items(), key=operator.itemgetter(1), reverse=True)\n",
    "    return sortedvalues[0][0]\n"
   ]
  },
  {
   "cell_type": "code",
   "execution_count": 8,
   "metadata": {},
   "outputs": [],
   "source": [
    "#calculating the predicted value\n",
    "predicted_value=[]\n",
    "k=3\n",
    "for x in range(len(testset)):\n",
    "    neighbors = findNeighbors(trainset, testset[x], k)\n",
    "    result = predict(neighbors)\n",
    "    predicted_value.append(result)"
   ]
  },
  {
   "cell_type": "code",
   "execution_count": 9,
   "metadata": {},
   "outputs": [],
   "source": [
    "# calculating the accuracy\n",
    "def find_accuracy(testset,predicted_value):\n",
    "    count=0\n",
    "    k=len(testset[0])\n",
    "    for i in range(len(testset)):\n",
    "        if testset[i][k-1]==predicted_value[i]:\n",
    "            count=count+1\n",
    "    final_accuracy=(count/float(len(testset)))*100\n",
    "    return final_accuracy"
   ]
  },
  {
   "cell_type": "code",
   "execution_count": 10,
   "metadata": {},
   "outputs": [
    {
     "name": "stdout",
     "output_type": "stream",
     "text": [
      "accuracy=  98.35748792270532\n"
     ]
    }
   ],
   "source": [
    "# calculating the accuracy\n",
    "accuracy=find_accuracy(testset,predicted_value)\n",
    "print(\"accuracy= \",accuracy)"
   ]
  },
  {
   "cell_type": "code",
   "execution_count": null,
   "metadata": {},
   "outputs": [],
   "source": []
  }
 ],
 "metadata": {
  "kernelspec": {
   "display_name": "Python 3",
   "language": "python",
   "name": "python3"
  },
  "language_info": {
   "codemirror_mode": {
    "name": "ipython",
    "version": 3
   },
   "file_extension": ".py",
   "mimetype": "text/x-python",
   "name": "python",
   "nbconvert_exporter": "python",
   "pygments_lexer": "ipython3",
   "version": "3.6.5"
  }
 },
 "nbformat": 4,
 "nbformat_minor": 2
}
