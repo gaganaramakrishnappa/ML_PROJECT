{
 "cells": [
  {
   "cell_type": "code",
   "execution_count": 1,
   "metadata": {},
   "outputs": [],
   "source": [
    "#It has already being known that Surface Temperatures (ST) can distinguish habitable planets from non\n",
    "#habitable ones with a large degree of precision. So it is necessary to verify whether our classifier works properly even without\n",
    "#this feature\n",
    "import pandas as pd\n",
    "#reading the cleaned dataset\n",
    "df=pd.read_csv(\"output.csv\")"
   ]
  },
  {
   "cell_type": "code",
   "execution_count": 2,
   "metadata": {},
   "outputs": [],
   "source": [
    "#deleting columns which contains temperature\n",
    "del df['P. Teq Min (K)'],df['P. Teq Mean (K)'],df['P. Teq Max (K)'],df['P. Ts Min (K)'],df['P. Ts Mean (K)'],df['P. Ts Max (K)']\n"
   ]
  },
  {
   "cell_type": "code",
   "execution_count": 3,
   "metadata": {},
   "outputs": [],
   "source": [
    "df.to_csv(\"output1.csv\")"
   ]
  },
  {
   "cell_type": "code",
   "execution_count": 4,
   "metadata": {},
   "outputs": [],
   "source": [
    "#CLASSIFICATION USING KNN(k=3)\n",
    "#loading the dataset and splitting the dataset into test and train data\n",
    "\n",
    "import csv\n",
    "import random\n",
    "def loadDataset(filename,trainset=[] , testset=[]):\n",
    "    lines = csv. reader(open(filename ,'r'))\n",
    "    dataset = list(lines)\n",
    "    dataset.remove(dataset[0]) #first element is column names so removing that perticular element from dataset\n",
    "    k=len(dataset[0])\n",
    "    for x in range(len(dataset)):\n",
    "        for y in range(k):\n",
    "                dataset[x][y] = float(dataset[x][y]) #converting all values from string into float\n",
    "    l=[]\n",
    "    for i in range(0,1256):  #splitting the datset into test and train where the splitting ratio is 0.7\n",
    "        l.append(random.randint(0,len(dataset)-1))\n",
    "    for j in range(0,len(dataset)-1):\n",
    "        if j in l:\n",
    "            trainset.append(dataset[j])\n",
    "        else:\n",
    "            testset.append(dataset[j])\n",
    "\n",
    "\n",
    "\n",
    "\n",
    "\n",
    "trainset=[]\n",
    "testset=[]\n",
    "loadDataset('output1.csv', trainset, testset)"
   ]
  },
  {
   "cell_type": "code",
   "execution_count": 5,
   "metadata": {},
   "outputs": [],
   "source": [
    "#calculating euclidian distance\n",
    "import math\n",
    "def find_distance(testpoint,trainpoint):\n",
    "    dist=0\n",
    "    no_attributes=len(testpoint)\n",
    "    for i in range(no_attributes-1):\n",
    "        dist=dist+pow((testpoint[i]-trainpoint[i]),2)\n",
    "    value=math.sqrt(dist)\n",
    "    return value"
   ]
  },
  {
   "cell_type": "code",
   "execution_count": 6,
   "metadata": {},
   "outputs": [],
   "source": [
    "#finding nearest k neighbors\n",
    "import operator \n",
    "def findNeighbors(trainset,testpoint,k):\n",
    "    distances=[]\n",
    "    for x in range(0,len(trainset)):\n",
    "        dist=find_distance(testpoint,trainset[x])\n",
    "        distances.append((trainset[x],dist))\n",
    "    \n",
    "    distances.sort(key=operator.itemgetter(1))\n",
    "    nearest_points=[]\n",
    "    for j in range(k):\n",
    "        nearest_points.append(distances[j][0])\n",
    "    return nearest_points"
   ]
  },
  {
   "cell_type": "code",
   "execution_count": 7,
   "metadata": {},
   "outputs": [],
   "source": [
    "#finding the majority class among k neighbors\n",
    "def predict(neighbors):\n",
    "    target_values={}\n",
    "    k=len(neighbors[0])\n",
    "    for ele in neighbors:\n",
    "        target=ele[k-1]\n",
    "        if target in target_values:\n",
    "            target_values[target]+=1\n",
    "        else:\n",
    "            target_values[target]=1\n",
    "    sortedvalues = sorted(target_values.items(), key=operator.itemgetter(1), reverse=True)\n",
    "    return sortedvalues[0][0]\n"
   ]
  },
  {
   "cell_type": "code",
   "execution_count": 8,
   "metadata": {},
   "outputs": [],
   "source": [
    "#calculating the predicted value\n",
    "predicted_value=[]\n",
    "k=3\n",
    "for x in range(len(testset)):\n",
    "    neighbors = findNeighbors(trainset, testset[x], k)\n",
    "    result = predict(neighbors)\n",
    "    predicted_value.append(result)"
   ]
  },
  {
   "cell_type": "code",
   "execution_count": 9,
   "metadata": {},
   "outputs": [],
   "source": [
    "# calculating the accuracy\n",
    "def find_accuracy(testset,predicted_value):\n",
    "    count=0\n",
    "    k=len(testset[0])\n",
    "    for i in range(len(testset)):\n",
    "        if testset[i][k-1]==predicted_value[i]:\n",
    "            count=count+1\n",
    "    final_accuracy=(count/float(len(testset)))*100\n",
    "    return final_accuracy\n",
    "    "
   ]
  },
  {
   "cell_type": "code",
   "execution_count": 10,
   "metadata": {},
   "outputs": [
    {
     "name": "stdout",
     "output_type": "stream",
     "text": [
      "accuracy=  96.15819209039547\n"
     ]
    }
   ],
   "source": [
    "# calculating the accuracy\n",
    "accuracy=find_accuracy(testset,predicted_value)\n",
    "print(\"accuracy= \",accuracy)"
   ]
  },
  {
   "cell_type": "code",
   "execution_count": null,
   "metadata": {},
   "outputs": [],
   "source": []
  }
 ],
 "metadata": {
  "kernelspec": {
   "display_name": "Python 3",
   "language": "python",
   "name": "python3"
  },
  "language_info": {
   "codemirror_mode": {
    "name": "ipython",
    "version": 3
   },
   "file_extension": ".py",
   "mimetype": "text/x-python",
   "name": "python",
   "nbconvert_exporter": "python",
   "pygments_lexer": "ipython3",
   "version": "3.6.5"
  }
 },
 "nbformat": 4,
 "nbformat_minor": 2
}
